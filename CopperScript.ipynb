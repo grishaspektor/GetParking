{
 "cells": [
  {
   "cell_type": "code",
   "execution_count": 1,
   "metadata": {},
   "outputs": [],
   "source": [
    "firstNameStr = 'vasiliy'\n",
    "lastNameStr = 'lizhnik'\n",
    "emailStr = 'vasiliy.lizhnik@gmail.com'\n",
    "licensePlateStr = 'sdf453'\n",
    "stateStr = 'colorado'\n",
    "\n",
    "#Visa parameters\n",
    "# visa = \n",
    "# cvv\n",
    "# expiration\n",
    "# Name\n",
    "\n",
    "#This is the desired date important month first number last. Does not validate anything - just trusts user\n",
    "#Currently does not go to the month - assumes that the month is currently opened in the browser\n",
    "dateStr = 'January 19'\n",
    "#will try to reserve earlier or equal to the # timeSlot\n",
    "#where 1 = 9am; 2 = 11am; 3 <=>1:30pm; 4 <=>2:30pm\n",
    "timeSlot = 2\n"
   ]
  },
  {
   "cell_type": "code",
   "execution_count": 2,
   "metadata": {},
   "outputs": [],
   "source": [
    "# import re for reges\n",
    "import re\n",
    "\n",
    "import time\n",
    "from bs4 import BeautifulSoup\n",
    "\n",
    "# Import webdriver to initialise a browser\n",
    "from selenium import webdriver\n",
    "from selenium.webdriver import ActionChains"
   ]
  },
  {
   "cell_type": "code",
   "execution_count": 3,
   "metadata": {},
   "outputs": [],
   "source": [
    "# website that we want to scrap\n",
    "url = \"https://www.coppercolorado.com/plan-your-trip/getting-here/parking\"\n",
    "# Initialize webdriver and put the path where download the driver\n",
    "driver = webdriver.Chrome(r'C:/Users/Grisha Spektor/Dropbox/Projects/SkiSchedule/chromedriver.exe')\n",
    "\n",
    "# Launch Chrome and pass the url\n",
    "driver.get(url)\n",
    "driver.maximize_window()"
   ]
  },
  {
   "cell_type": "code",
   "execution_count": 5,
   "metadata": {},
   "outputs": [],
   "source": [
    "#Switch to the calendar iframe (currently explicit..)\n",
    "\n",
    "#go to the top hirearchy level\n",
    "driver.switch_to.default_content() \n",
    "#go to the calendar iframe\n",
    "calendarFrame = driver.find_element_by_xpath('/html/body/div[1]/div/div[1]/div/main/cms-level0/section[2]/cms-level1/div[2]/section[2]/div[5]/cms-level3/section/ui-section[1]/div/div/ui-html/div/p/iframe')\n",
    "driver.switch_to.frame(calendarFrame)\n",
    "# get the monthback and month forward buttons\n",
    "backButton = driver.find_element_by_xpath('/html/body/div/div/div/div/div[3]/div/div/div/div[2]/div/div/div/div/div[2]/div[1]/div[1]')\n",
    "forwardButton = driver.find_element_by_xpath('/html/body/div/div/div/div/div[3]/div/div/div/div[2]/div/div/div/div/div[2]/div[1]/div[2]')"
   ]
  },
  {
   "cell_type": "code",
   "execution_count": 8,
   "metadata": {},
   "outputs": [],
   "source": [
    "# # backButton.click()\n",
    "# forwardButton.click()"
   ]
  },
  {
   "cell_type": "code",
   "execution_count": 10,
   "metadata": {},
   "outputs": [],
   "source": [
    "#check what month are we - this one is explicit xpath because of some bug that \"displays\" several months in the same page\n",
    "correctMonthFlag = False\n",
    "#spilt the desired date to isolate month and date\n",
    "parsedDateInput = dateStr.split()\n",
    "# go to the proper month, Assumes that going forward only.\n",
    "while (not correctMonthFlag):\n",
    "    monthName = driver.find_element_by_xpath('/html/body/div/div/div/div/div[3]/div/div/div/div[2]/div/div/div/div/div[2]/div[2]/div/div[2]/div/div')\n",
    "    monthName.get_attribute('text')\n",
    "    if  (parsedDateInput[0].upper() in monthName.text) or ((parsedDateInput[0] in monthName.text)):\n",
    "        correctMonthFlag = True\n",
    "    else :\n",
    "        forwardButton.click()   \n",
    "\n",
    "       \n"
   ]
  },
  {
   "cell_type": "code",
   "execution_count": 11,
   "metadata": {},
   "outputs": [
    {
     "name": "stdout",
     "output_type": "stream",
     "text": [
      "None\n",
      "None\n",
      "None\n",
      "None\n",
      "None\n",
      "Not available. Friday, January 1, 2021\n",
      "Not available. Saturday, January 2, 2021\n",
      "Sunday, January 3, 2021\n",
      "Monday, January 4, 2021\n",
      "Not available. Tuesday, January 5, 2021\n",
      "Not available. Wednesday, January 6, 2021\n",
      "Not available. Thursday, January 7, 2021\n",
      "Not available. Friday, January 8, 2021\n",
      "Not available. Saturday, January 9, 2021\n",
      "Not available. Sunday, January 10, 2021\n",
      "Not available. Monday, January 11, 2021\n",
      "Not available. Tuesday, January 12, 2021\n",
      "Not available. Wednesday, January 13, 2021\n",
      "Not available. Thursday, January 14, 2021\n",
      "Not available. Friday, January 15, 2021\n",
      "Not available. Saturday, January 16, 2021\n",
      "Not available. Sunday, January 17, 2021\n",
      "Not available. Monday, January 18, 2021\n",
      "Tuesday, January 19, 2021\n",
      "here\n",
      "Ha!\n",
      "Not available. Sunday, January 24, 2021\n",
      "Monday, January 25, 2021\n",
      "Tuesday, January 26, 2021\n",
      "Wednesday, January 27, 2021\n",
      "Thursday, January 28, 2021\n",
      "Not available. Friday, January 29, 2021\n",
      "Not available. Saturday, January 30, 2021\n",
      "Not available. Sunday, January 31, 2021\n",
      "None\n",
      "None\n",
      "None\n",
      "None\n",
      "None\n",
      "None\n"
     ]
    }
   ],
   "source": [
    "#The calendar is a table, due to a bug there are 3 tables prev. month, curr. month and next month. so list[1] is cuurent month\n",
    "tableList = driver.find_elements_by_tag_name('table')\n",
    "\n",
    "searchStr = dateStr\n",
    "notAvailableStr = 'Not available.'\n",
    "# Go over the table for each day\n",
    "for row in tableList[1].find_elements_by_css_selector('tr'):\n",
    "    for cell in row.find_elements_by_tag_name('td'):\n",
    "        statusString = str(cell.get_attribute('aria-label'))\n",
    "        print(statusString)\n",
    "        if searchStr+',' in statusString: #ensures that \"January 2,\" is found but not \"January 20,\"\n",
    "            print('here')\n",
    "            if notAvailableStr not in statusString:\n",
    "                print(\"Ha!\")\n",
    "                cell.click()\n",
    "                cell.click()\n",
    "            \n",
    "            break;\n",
    "#             else : # if here but not available then refresh\n",
    "#                 driver.refresh()\n",
    "#Change this so that if not available it waits, refreshes the page and does it all over."
   ]
  },
  {
   "cell_type": "code",
   "execution_count": 12,
   "metadata": {},
   "outputs": [
    {
     "name": "stdout",
     "output_type": "stream",
     "text": [
      "menu found\n"
     ]
    }
   ],
   "source": [
    "# Now look at the opened dialogue and check which one is available\n",
    "\n",
    "menu = driver.find_elements_by_tag_name('div')\n",
    "for element in menu:\n",
    "    if 'hidden d-lg-block col-xs-12 col-md-4' in element.get_attribute('class'):\n",
    "        print('menu found')\n",
    "        selectedElement = element\n",
    "        break;"
   ]
  },
  {
   "cell_type": "code",
   "execution_count": 13,
   "metadata": {},
   "outputs": [
    {
     "name": "stdout",
     "output_type": "stream",
     "text": [
      "7:00 AM   event-picker-choice\n",
      "12:30 PM- UNAVAILABLE   event-picker-choice disabled\n",
      "selected  7:00 AM\n"
     ]
    }
   ],
   "source": [
    "#Now I need to check which one is available and select the earliest one\n",
    "#The available ones are    \"event-picker-choice\"\n",
    "#The UN-available ones are \"event-picker-choice disabled\"\n",
    "#The selected one is       \"event-picker-choice checked\"\n",
    "results = selectedElement.find_elements_by_class_name('event-picker-choice-container')\n",
    "for element2 in results:\n",
    "    temp = element2.find_element_by_tag_name('div')\n",
    "    print(temp.text, ' ', temp.get_attribute('class'))\n",
    "for element2 in results:\n",
    "    temp = element2.find_element_by_tag_name('div')\n",
    "    if 'disabled' not in  str(temp.get_attribute('class')):\n",
    "        print('selected ', temp.text)\n",
    "        #select\n",
    "#         driver.execute_script(\"arguments[0].setAttribute('class','event-picker-choice checked')\", temp)\n",
    "        temp.click()#otherwise doesn't work\n",
    "        break;\n",
    "        #this way it selects the earliest\n",
    "    \n"
   ]
  },
  {
   "cell_type": "code",
   "execution_count": 14,
   "metadata": {},
   "outputs": [
    {
     "name": "stdout",
     "output_type": "stream",
     "text": [
      "7:00 AM   event-picker-choice checked\n",
      "12:30 PM- UNAVAILABLE   event-picker-choice disabled\n"
     ]
    }
   ],
   "source": [
    "# verify what is selected\n",
    "for element2 in results:\n",
    "    temp = element2.find_element_by_tag_name('div')\n",
    "    print(temp.text, ' ', temp.get_attribute('class'))\n"
   ]
  },
  {
   "cell_type": "code",
   "execution_count": 15,
   "metadata": {},
   "outputs": [],
   "source": [
    "#Press the button for next menu\n",
    "bttn = selectedElement.find_element_by_class_name(\"event-picker-button\")\n",
    "bttn.click()"
   ]
  },
  {
   "cell_type": "code",
   "execution_count": 49,
   "metadata": {},
   "outputs": [],
   "source": [
    "#go to the \"book now\" iframe\n",
    "driver.switch_to.default_content() \n",
    "\n",
    "frames = driver.find_elements_by_tag_name('iframe')\n",
    "for aFrame in frames:\n",
    "    if 'widget.arrive.com' in aFrame.get_attribute('src'):\n",
    "#         print(aFrame.get_attribute('src'))\n",
    "        driver.switch_to.frame(aFrame)\n",
    "        break;\n"
   ]
  },
  {
   "cell_type": "code",
   "execution_count": 21,
   "metadata": {},
   "outputs": [],
   "source": [
    "# this is new for copper\n",
    "listBttn = driver.find_element_by_class_name('view-picker')\n",
    "listBttn.click()"
   ]
  },
  {
   "cell_type": "code",
   "execution_count": 73,
   "metadata": {},
   "outputs": [
    {
     "name": "stdout",
     "output_type": "stream",
     "text": [
      "126 Ten Mile Cir.\n",
      "Ten Mile Lot\n",
      "359 ft away\n",
      "700 Copper Rd.\n",
      "Chapel Lot\n",
      "0.1 mi away\n",
      "1020 Copper Rd.\n",
      "Beeler Lot\n",
      "0.2 mi away\n",
      "111 Beeler Pl.\n",
      "Union Creek Parking Lot\n",
      "0.3 mi away\n",
      "33325 Hwy. 91\n",
      "Alpine Lot\n",
      "0.8 mi away\n",
      "34000 Hwy 91\n",
      "Triple Treat Lot (Expert Terrain, No Shuttle)\n",
      "0.9 mi away\n"
     ]
    }
   ],
   "source": [
    "bookBttns = driver.find_elements_by_class_name(\"location-information\")\n",
    "# bookBttns.get_attribute('data-ui-components')\n",
    "for element in bookBttns:\n",
    "    print(element.text)"
   ]
  },
  {
   "cell_type": "code",
   "execution_count": 83,
   "metadata": {},
   "outputs": [
    {
     "ename": "NoSuchElementException",
     "evalue": "Message: no such element: Unable to locate element: {\"method\":\"css selector\",\"selector\":\".location-book-now clickable\"}\n  (Session info: chrome=87.0.4280.88)\n",
     "output_type": "error",
     "traceback": [
      "\u001b[1;31m---------------------------------------------------------------------------\u001b[0m",
      "\u001b[1;31mNoSuchElementException\u001b[0m                    Traceback (most recent call last)",
      "\u001b[1;32m<ipython-input-83-c618ed30bdd1>\u001b[0m in \u001b[0;36m<module>\u001b[1;34m\u001b[0m\n\u001b[0;32m      2\u001b[0m \u001b[0mlen\u001b[0m\u001b[1;33m(\u001b[0m\u001b[0mbookBttns\u001b[0m\u001b[1;33m)\u001b[0m\u001b[1;33m\u001b[0m\u001b[1;33m\u001b[0m\u001b[0m\n\u001b[0;32m      3\u001b[0m \u001b[1;32mfor\u001b[0m \u001b[0mbttn\u001b[0m \u001b[1;32min\u001b[0m \u001b[0mbookBttns\u001b[0m\u001b[1;33m:\u001b[0m\u001b[1;33m\u001b[0m\u001b[1;33m\u001b[0m\u001b[0m\n\u001b[1;32m----> 4\u001b[1;33m     \u001b[0mbttn\u001b[0m\u001b[1;33m.\u001b[0m\u001b[0mfind_element_by_class_name\u001b[0m\u001b[1;33m(\u001b[0m\u001b[1;34m'location-book-now clickable'\u001b[0m\u001b[1;33m)\u001b[0m\u001b[1;33m\u001b[0m\u001b[1;33m\u001b[0m\u001b[0m\n\u001b[0m",
      "\u001b[1;32mC:\\Anaconda\\Anaconda3\\envs\\scrap\\lib\\site-packages\\selenium\\webdriver\\remote\\webelement.py\u001b[0m in \u001b[0;36mfind_element_by_class_name\u001b[1;34m(self, name)\u001b[0m\n\u001b[0;32m    396\u001b[0m             \u001b[0melement\u001b[0m \u001b[1;33m=\u001b[0m \u001b[0melement\u001b[0m\u001b[1;33m.\u001b[0m\u001b[0mfind_element_by_class_name\u001b[0m\u001b[1;33m(\u001b[0m\u001b[1;34m'foo'\u001b[0m\u001b[1;33m)\u001b[0m\u001b[1;33m\u001b[0m\u001b[1;33m\u001b[0m\u001b[0m\n\u001b[0;32m    397\u001b[0m         \"\"\"\n\u001b[1;32m--> 398\u001b[1;33m         \u001b[1;32mreturn\u001b[0m \u001b[0mself\u001b[0m\u001b[1;33m.\u001b[0m\u001b[0mfind_element\u001b[0m\u001b[1;33m(\u001b[0m\u001b[0mby\u001b[0m\u001b[1;33m=\u001b[0m\u001b[0mBy\u001b[0m\u001b[1;33m.\u001b[0m\u001b[0mCLASS_NAME\u001b[0m\u001b[1;33m,\u001b[0m \u001b[0mvalue\u001b[0m\u001b[1;33m=\u001b[0m\u001b[0mname\u001b[0m\u001b[1;33m)\u001b[0m\u001b[1;33m\u001b[0m\u001b[1;33m\u001b[0m\u001b[0m\n\u001b[0m\u001b[0;32m    399\u001b[0m \u001b[1;33m\u001b[0m\u001b[0m\n\u001b[0;32m    400\u001b[0m     \u001b[1;32mdef\u001b[0m \u001b[0mfind_elements_by_class_name\u001b[0m\u001b[1;33m(\u001b[0m\u001b[0mself\u001b[0m\u001b[1;33m,\u001b[0m \u001b[0mname\u001b[0m\u001b[1;33m)\u001b[0m\u001b[1;33m:\u001b[0m\u001b[1;33m\u001b[0m\u001b[1;33m\u001b[0m\u001b[0m\n",
      "\u001b[1;32mC:\\Anaconda\\Anaconda3\\envs\\scrap\\lib\\site-packages\\selenium\\webdriver\\remote\\webelement.py\u001b[0m in \u001b[0;36mfind_element\u001b[1;34m(self, by, value)\u001b[0m\n\u001b[0;32m    657\u001b[0m \u001b[1;33m\u001b[0m\u001b[0m\n\u001b[0;32m    658\u001b[0m         return self._execute(Command.FIND_CHILD_ELEMENT,\n\u001b[1;32m--> 659\u001b[1;33m                              {\"using\": by, \"value\": value})['value']\n\u001b[0m\u001b[0;32m    660\u001b[0m \u001b[1;33m\u001b[0m\u001b[0m\n\u001b[0;32m    661\u001b[0m     \u001b[1;32mdef\u001b[0m \u001b[0mfind_elements\u001b[0m\u001b[1;33m(\u001b[0m\u001b[0mself\u001b[0m\u001b[1;33m,\u001b[0m \u001b[0mby\u001b[0m\u001b[1;33m=\u001b[0m\u001b[0mBy\u001b[0m\u001b[1;33m.\u001b[0m\u001b[0mID\u001b[0m\u001b[1;33m,\u001b[0m \u001b[0mvalue\u001b[0m\u001b[1;33m=\u001b[0m\u001b[1;32mNone\u001b[0m\u001b[1;33m)\u001b[0m\u001b[1;33m:\u001b[0m\u001b[1;33m\u001b[0m\u001b[1;33m\u001b[0m\u001b[0m\n",
      "\u001b[1;32mC:\\Anaconda\\Anaconda3\\envs\\scrap\\lib\\site-packages\\selenium\\webdriver\\remote\\webelement.py\u001b[0m in \u001b[0;36m_execute\u001b[1;34m(self, command, params)\u001b[0m\n\u001b[0;32m    631\u001b[0m             \u001b[0mparams\u001b[0m \u001b[1;33m=\u001b[0m \u001b[1;33m{\u001b[0m\u001b[1;33m}\u001b[0m\u001b[1;33m\u001b[0m\u001b[1;33m\u001b[0m\u001b[0m\n\u001b[0;32m    632\u001b[0m         \u001b[0mparams\u001b[0m\u001b[1;33m[\u001b[0m\u001b[1;34m'id'\u001b[0m\u001b[1;33m]\u001b[0m \u001b[1;33m=\u001b[0m \u001b[0mself\u001b[0m\u001b[1;33m.\u001b[0m\u001b[0m_id\u001b[0m\u001b[1;33m\u001b[0m\u001b[1;33m\u001b[0m\u001b[0m\n\u001b[1;32m--> 633\u001b[1;33m         \u001b[1;32mreturn\u001b[0m \u001b[0mself\u001b[0m\u001b[1;33m.\u001b[0m\u001b[0m_parent\u001b[0m\u001b[1;33m.\u001b[0m\u001b[0mexecute\u001b[0m\u001b[1;33m(\u001b[0m\u001b[0mcommand\u001b[0m\u001b[1;33m,\u001b[0m \u001b[0mparams\u001b[0m\u001b[1;33m)\u001b[0m\u001b[1;33m\u001b[0m\u001b[1;33m\u001b[0m\u001b[0m\n\u001b[0m\u001b[0;32m    634\u001b[0m \u001b[1;33m\u001b[0m\u001b[0m\n\u001b[0;32m    635\u001b[0m     \u001b[1;32mdef\u001b[0m \u001b[0mfind_element\u001b[0m\u001b[1;33m(\u001b[0m\u001b[0mself\u001b[0m\u001b[1;33m,\u001b[0m \u001b[0mby\u001b[0m\u001b[1;33m=\u001b[0m\u001b[0mBy\u001b[0m\u001b[1;33m.\u001b[0m\u001b[0mID\u001b[0m\u001b[1;33m,\u001b[0m \u001b[0mvalue\u001b[0m\u001b[1;33m=\u001b[0m\u001b[1;32mNone\u001b[0m\u001b[1;33m)\u001b[0m\u001b[1;33m:\u001b[0m\u001b[1;33m\u001b[0m\u001b[1;33m\u001b[0m\u001b[0m\n",
      "\u001b[1;32mC:\\Anaconda\\Anaconda3\\envs\\scrap\\lib\\site-packages\\selenium\\webdriver\\remote\\webdriver.py\u001b[0m in \u001b[0;36mexecute\u001b[1;34m(self, driver_command, params)\u001b[0m\n\u001b[0;32m    319\u001b[0m         \u001b[0mresponse\u001b[0m \u001b[1;33m=\u001b[0m \u001b[0mself\u001b[0m\u001b[1;33m.\u001b[0m\u001b[0mcommand_executor\u001b[0m\u001b[1;33m.\u001b[0m\u001b[0mexecute\u001b[0m\u001b[1;33m(\u001b[0m\u001b[0mdriver_command\u001b[0m\u001b[1;33m,\u001b[0m \u001b[0mparams\u001b[0m\u001b[1;33m)\u001b[0m\u001b[1;33m\u001b[0m\u001b[1;33m\u001b[0m\u001b[0m\n\u001b[0;32m    320\u001b[0m         \u001b[1;32mif\u001b[0m \u001b[0mresponse\u001b[0m\u001b[1;33m:\u001b[0m\u001b[1;33m\u001b[0m\u001b[1;33m\u001b[0m\u001b[0m\n\u001b[1;32m--> 321\u001b[1;33m             \u001b[0mself\u001b[0m\u001b[1;33m.\u001b[0m\u001b[0merror_handler\u001b[0m\u001b[1;33m.\u001b[0m\u001b[0mcheck_response\u001b[0m\u001b[1;33m(\u001b[0m\u001b[0mresponse\u001b[0m\u001b[1;33m)\u001b[0m\u001b[1;33m\u001b[0m\u001b[1;33m\u001b[0m\u001b[0m\n\u001b[0m\u001b[0;32m    322\u001b[0m             response['value'] = self._unwrap_value(\n\u001b[0;32m    323\u001b[0m                 response.get('value', None))\n",
      "\u001b[1;32mC:\\Anaconda\\Anaconda3\\envs\\scrap\\lib\\site-packages\\selenium\\webdriver\\remote\\errorhandler.py\u001b[0m in \u001b[0;36mcheck_response\u001b[1;34m(self, response)\u001b[0m\n\u001b[0;32m    240\u001b[0m                 \u001b[0malert_text\u001b[0m \u001b[1;33m=\u001b[0m \u001b[0mvalue\u001b[0m\u001b[1;33m[\u001b[0m\u001b[1;34m'alert'\u001b[0m\u001b[1;33m]\u001b[0m\u001b[1;33m.\u001b[0m\u001b[0mget\u001b[0m\u001b[1;33m(\u001b[0m\u001b[1;34m'text'\u001b[0m\u001b[1;33m)\u001b[0m\u001b[1;33m\u001b[0m\u001b[1;33m\u001b[0m\u001b[0m\n\u001b[0;32m    241\u001b[0m             \u001b[1;32mraise\u001b[0m \u001b[0mexception_class\u001b[0m\u001b[1;33m(\u001b[0m\u001b[0mmessage\u001b[0m\u001b[1;33m,\u001b[0m \u001b[0mscreen\u001b[0m\u001b[1;33m,\u001b[0m \u001b[0mstacktrace\u001b[0m\u001b[1;33m,\u001b[0m \u001b[0malert_text\u001b[0m\u001b[1;33m)\u001b[0m\u001b[1;33m\u001b[0m\u001b[1;33m\u001b[0m\u001b[0m\n\u001b[1;32m--> 242\u001b[1;33m         \u001b[1;32mraise\u001b[0m \u001b[0mexception_class\u001b[0m\u001b[1;33m(\u001b[0m\u001b[0mmessage\u001b[0m\u001b[1;33m,\u001b[0m \u001b[0mscreen\u001b[0m\u001b[1;33m,\u001b[0m \u001b[0mstacktrace\u001b[0m\u001b[1;33m)\u001b[0m\u001b[1;33m\u001b[0m\u001b[1;33m\u001b[0m\u001b[0m\n\u001b[0m\u001b[0;32m    243\u001b[0m \u001b[1;33m\u001b[0m\u001b[0m\n\u001b[0;32m    244\u001b[0m     \u001b[1;32mdef\u001b[0m \u001b[0m_value_or_default\u001b[0m\u001b[1;33m(\u001b[0m\u001b[0mself\u001b[0m\u001b[1;33m,\u001b[0m \u001b[0mobj\u001b[0m\u001b[1;33m,\u001b[0m \u001b[0mkey\u001b[0m\u001b[1;33m,\u001b[0m \u001b[0mdefault\u001b[0m\u001b[1;33m)\u001b[0m\u001b[1;33m:\u001b[0m\u001b[1;33m\u001b[0m\u001b[1;33m\u001b[0m\u001b[0m\n",
      "\u001b[1;31mNoSuchElementException\u001b[0m: Message: no such element: Unable to locate element: {\"method\":\"css selector\",\"selector\":\".location-book-now clickable\"}\n  (Session info: chrome=87.0.4280.88)\n"
     ]
    }
   ],
   "source": [
    "bookBttns = driver.find_elements_by_class_name('analytics-tracker')\n",
    "len(bookBttns)\n",
    "for bttn in bookBttns:\n",
    "    bttn.find_element_by_class_name('location-book-now clickable')"
   ]
  },
  {
   "cell_type": "code",
   "execution_count": null,
   "metadata": {},
   "outputs": [],
   "source": [
    "#find the button and press it\n",
    "fields = driver.find_elements_by_tag_name('div')\n",
    "for aField in fields:\n",
    "    if 'location-book-now clickable' in aField.get_attribute('class'):\n",
    "        aField.click()\n",
    "        break;"
   ]
  },
  {
   "cell_type": "code",
   "execution_count": null,
   "metadata": {},
   "outputs": [],
   "source": [
    "#Now we need to fill the form...\n",
    "driver.switch_to.default_content() \n",
    "\n",
    "frames = driver.find_elements_by_tag_name('iframe')\n",
    "for aFrame in frames:\n",
    "    if 'widget.arrive.com' in aFrame.get_attribute('src'):\n",
    "        driver.switch_to.frame(aFrame)\n",
    "        break;\n",
    "driver.find_element_by_id('firstName').send_keys(firstNameStr)\n",
    "driver.find_element_by_id('lastName').send_keys(lastNameStr)\n",
    "driver.find_element_by_id('email').send_keys(emailStr)\n",
    "\n",
    "fields = driver.find_elements_by_tag_name('input')\n",
    "len(fields)\n",
    "for field in fields:\n",
    "    if field.get_attribute('maxlength') != None:\n",
    "        field.send_keys(licensePlateStr)\n",
    "fields[4].send_keys(stateStr)"
   ]
  },
  {
   "cell_type": "code",
   "execution_count": null,
   "metadata": {},
   "outputs": [],
   "source": [
    "# find and click the checkout button\n",
    "driver.find_element_by_class_name('checkout-button').click()\n"
   ]
  },
  {
   "cell_type": "code",
   "execution_count": null,
   "metadata": {},
   "outputs": [],
   "source": []
  },
  {
   "cell_type": "markdown",
   "metadata": {},
   "source": [
    "### Test"
   ]
  },
  {
   "cell_type": "code",
   "execution_count": null,
   "metadata": {},
   "outputs": [],
   "source": [
    "parsedDateInput = dateStr.split()\n",
    "parsedDateInput[0].upper() in 'DECEMBER 21' "
   ]
  },
  {
   "cell_type": "code",
   "execution_count": null,
   "metadata": {},
   "outputs": [],
   "source": [
    "months = ['JANUARY','FEBRUARY','MARCH','APRIL','MAY','JUNE','JULY','AUGUST','SEPTEMBER','OCTOBER','NOVEMBER','DECEMBER']\n",
    "\n",
    "'FEBRUARY' in months\n",
    "# months.index('FEBRUARY')\n"
   ]
  },
  {
   "cell_type": "code",
   "execution_count": null,
   "metadata": {},
   "outputs": [],
   "source": [
    "driver.refresh()"
   ]
  },
  {
   "cell_type": "code",
   "execution_count": null,
   "metadata": {},
   "outputs": [],
   "source": []
  }
 ],
 "metadata": {
  "kernelspec": {
   "display_name": "Python 3",
   "language": "python",
   "name": "python3"
  },
  "language_info": {
   "codemirror_mode": {
    "name": "ipython",
    "version": 3
   },
   "file_extension": ".py",
   "mimetype": "text/x-python",
   "name": "python",
   "nbconvert_exporter": "python",
   "pygments_lexer": "ipython3",
   "version": "3.6.10"
  }
 },
 "nbformat": 4,
 "nbformat_minor": 4
}
